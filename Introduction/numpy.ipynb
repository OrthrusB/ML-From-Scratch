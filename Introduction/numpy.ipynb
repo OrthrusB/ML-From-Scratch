{
  "nbformat": 4,
  "nbformat_minor": 0,
  "metadata": {
    "colab": {
      "provenance": [],
      "toc_visible": true,
      "authorship_tag": "ABX9TyMu74Rqs5498jwDpzkUCLWB",
      "include_colab_link": true
    },
    "kernelspec": {
      "name": "python3",
      "display_name": "Python 3"
    },
    "language_info": {
      "name": "python"
    }
  },
  "cells": [
    {
      "cell_type": "markdown",
      "metadata": {
        "id": "view-in-github",
        "colab_type": "text"
      },
      "source": [
        "<a href=\"https://colab.research.google.com/github/OrthrusB/ML-From-Scratch/blob/main/Introduction/numpy.ipynb\" target=\"_parent\"><img src=\"https://colab.research.google.com/assets/colab-badge.svg\" alt=\"Open In Colab\"/></a>"
      ]
    },
    {
      "cell_type": "markdown",
      "source": [
        "#Introduction to NumPy\n",
        "\n",
        "##what we will conver?\n",
        "- creating arrays\n",
        "- multidimensional array\n",
        "- randomly generated arrays\n",
        "- element wise operations\n",
        "- summarizing operations"
      ],
      "metadata": {
        "id": "_HzHtFaSEwuA"
      }
    },
    {
      "cell_type": "code",
      "source": [],
      "metadata": {
        "id": "CCR8sbfJFH9l"
      },
      "execution_count": null,
      "outputs": []
    },
    {
      "cell_type": "markdown",
      "source": [
        "# One dimesnional array"
      ],
      "metadata": {
        "id": "tIQlvwIuFJjQ"
      }
    },
    {
      "cell_type": "code",
      "source": [
        "import numpy as np\n",
        "#create and array with all the element zeros"
      ],
      "metadata": {
        "id": "OEyqSGbXFOQC"
      },
      "execution_count": null,
      "outputs": []
    },
    {
      "cell_type": "code",
      "source": [
        "#element with ones\n",
        "np.ones(5)"
      ],
      "metadata": {
        "colab": {
          "base_uri": "https://localhost:8080/"
        },
        "id": "fNEbJnyRFTWs",
        "outputId": "e20eb617-0a82-412f-8b4d-ebeac37920e8"
      },
      "execution_count": null,
      "outputs": [
        {
          "output_type": "execute_result",
          "data": {
            "text/plain": [
              "array([1., 1., 1., 1., 1.])"
            ]
          },
          "metadata": {},
          "execution_count": 2
        }
      ]
    },
    {
      "cell_type": "code",
      "source": [
        "#create an array of size 10 with all elements 3\n",
        "np.full(10, 3)"
      ],
      "metadata": {
        "colab": {
          "base_uri": "https://localhost:8080/"
        },
        "id": "_ki3n-FYFVbp",
        "outputId": "4e2eba4a-4702-474f-e10c-04cb74bcb911"
      },
      "execution_count": null,
      "outputs": [
        {
          "output_type": "execute_result",
          "data": {
            "text/plain": [
              "array([3, 3, 3, 3, 3, 3, 3, 3, 3, 3])"
            ]
          },
          "metadata": {},
          "execution_count": 3
        }
      ]
    },
    {
      "cell_type": "code",
      "source": [
        "np.array([1, 2, 3, 4, 5])"
      ],
      "metadata": {
        "colab": {
          "base_uri": "https://localhost:8080/"
        },
        "id": "RF7s_G6qFX2g",
        "outputId": "5abe722a-bf08-4370-fede-369aa41d5804"
      },
      "execution_count": null,
      "outputs": [
        {
          "output_type": "execute_result",
          "data": {
            "text/plain": [
              "array([1, 2, 3, 4, 5])"
            ]
          },
          "metadata": {},
          "execution_count": 4
        }
      ]
    },
    {
      "cell_type": "code",
      "source": [
        "arr=np.array([5, 6, 7, 8, 9])\n",
        "arr[3]=10\n",
        "print(arr)"
      ],
      "metadata": {
        "colab": {
          "base_uri": "https://localhost:8080/"
        },
        "id": "gQ23VNAXFaQW",
        "outputId": "fefce59c-15fe-4b83-9a97-f8c0a5561add"
      },
      "execution_count": null,
      "outputs": [
        {
          "output_type": "stream",
          "name": "stdout",
          "text": [
            "[ 5  6  7 10  9]\n"
          ]
        }
      ]
    },
    {
      "cell_type": "code",
      "source": [
        "#range diyera\n",
        "np.arange(3, 10)"
      ],
      "metadata": {
        "colab": {
          "base_uri": "https://localhost:8080/"
        },
        "id": "Ftzr_0NkFcqP",
        "outputId": "1b2a80c0-fa39-443e-fa15-500fb0c81832"
      },
      "execution_count": null,
      "outputs": [
        {
          "output_type": "execute_result",
          "data": {
            "text/plain": [
              "array([3, 4, 5, 6, 7, 8, 9])"
            ]
          },
          "metadata": {},
          "execution_count": 6
        }
      ]
    },
    {
      "cell_type": "code",
      "source": [
        "#create array with evenly spaced numbers within a specified range\n",
        "np.linspace(0, 100, 11)"
      ],
      "metadata": {
        "colab": {
          "base_uri": "https://localhost:8080/"
        },
        "id": "2DifK3r9FelC",
        "outputId": "4e89c94d-9a12-4dec-f991-8b48dda7e157"
      },
      "execution_count": null,
      "outputs": [
        {
          "output_type": "execute_result",
          "data": {
            "text/plain": [
              "array([  0.,  10.,  20.,  30.,  40.,  50.,  60.,  70.,  80.,  90., 100.])"
            ]
          },
          "metadata": {},
          "execution_count": 7
        }
      ]
    },
    {
      "cell_type": "markdown",
      "source": [
        "# Two Dimensional array"
      ],
      "metadata": {
        "id": "pYrUXX2aFg5R"
      }
    },
    {
      "cell_type": "code",
      "source": [
        "np.zeros((3, 5))"
      ],
      "metadata": {
        "colab": {
          "base_uri": "https://localhost:8080/"
        },
        "id": "B5RzopjuFkU-",
        "outputId": "a023e2ab-9584-4706-f3fa-2fa8a4a2fedf"
      },
      "execution_count": null,
      "outputs": [
        {
          "output_type": "execute_result",
          "data": {
            "text/plain": [
              "array([[0., 0., 0., 0., 0.],\n",
              "       [0., 0., 0., 0., 0.],\n",
              "       [0., 0., 0., 0., 0.]])"
            ]
          },
          "metadata": {},
          "execution_count": 8
        }
      ]
    },
    {
      "cell_type": "code",
      "source": [
        "np.ones((2, 2))"
      ],
      "metadata": {
        "colab": {
          "base_uri": "https://localhost:8080/"
        },
        "id": "PrqgzGwEFmVH",
        "outputId": "f1a64b4a-c911-4dd0-a23b-5af5777673dc"
      },
      "execution_count": null,
      "outputs": [
        {
          "output_type": "execute_result",
          "data": {
            "text/plain": [
              "array([[1., 1.],\n",
              "       [1., 1.]])"
            ]
          },
          "metadata": {},
          "execution_count": 9
        }
      ]
    },
    {
      "cell_type": "code",
      "source": [
        "a=np.array([[1, 2, 3],\n",
        "          [4, 5, 6],\n",
        "          [7, 8, 9]]\n",
        "          )\n",
        "\n",
        "a[0,1]=20\n",
        "a\n"
      ],
      "metadata": {
        "colab": {
          "base_uri": "https://localhost:8080/"
        },
        "id": "znTrXjMJFo-K",
        "outputId": "2762ed00-7090-48b3-fdd2-d798d5aff0d4"
      },
      "execution_count": null,
      "outputs": [
        {
          "output_type": "execute_result",
          "data": {
            "text/plain": [
              "array([[ 1, 20,  3],\n",
              "       [ 4,  5,  6],\n",
              "       [ 7,  8,  9]])"
            ]
          },
          "metadata": {},
          "execution_count": 10
        }
      ]
    },
    {
      "cell_type": "code",
      "source": [
        "print(\"\\n\")\n",
        "a[2:3]=1\n",
        "a"
      ],
      "metadata": {
        "colab": {
          "base_uri": "https://localhost:8080/"
        },
        "id": "w9_jhMWVFr28",
        "outputId": "f98ff06d-cd8c-4187-dcbf-f55f65f256b6"
      },
      "execution_count": null,
      "outputs": [
        {
          "output_type": "stream",
          "name": "stdout",
          "text": [
            "\n",
            "\n"
          ]
        },
        {
          "output_type": "execute_result",
          "data": {
            "text/plain": [
              "array([[ 1, 20,  3],\n",
              "       [ 4,  5,  6],\n",
              "       [ 1,  1,  1]])"
            ]
          },
          "metadata": {},
          "execution_count": 11
        }
      ]
    },
    {
      "cell_type": "code",
      "source": [
        "a[0,2]=2\n",
        "a[1,2]=2\n",
        "a[2,2]=2\n",
        "print (a)"
      ],
      "metadata": {
        "colab": {
          "base_uri": "https://localhost:8080/"
        },
        "id": "4eW1ZpjWFtoi",
        "outputId": "ff7f77a3-1f03-48f0-fde8-03456d6a120f"
      },
      "execution_count": null,
      "outputs": [
        {
          "output_type": "stream",
          "name": "stdout",
          "text": [
            "[[ 1 20  2]\n",
            " [ 4  5  2]\n",
            " [ 1  1  2]]\n"
          ]
        }
      ]
    },
    {
      "cell_type": "code",
      "source": [
        "#all elements 10 of 3*3 matrix\n",
        "np.full((3, 3), 10)"
      ],
      "metadata": {
        "colab": {
          "base_uri": "https://localhost:8080/"
        },
        "id": "qqp9K9JKFugN",
        "outputId": "88eeefa5-ec0f-4854-afdc-845862d952c2"
      },
      "execution_count": null,
      "outputs": [
        {
          "output_type": "execute_result",
          "data": {
            "text/plain": [
              "array([[10, 10, 10],\n",
              "       [10, 10, 10],\n",
              "       [10, 10, 10]])"
            ]
          },
          "metadata": {},
          "execution_count": 13
        }
      ]
    },
    {
      "cell_type": "markdown",
      "source": [
        "# Randomly generated array\n",
        "\n",
        "- NumPy can create arrays filled with random numbers\n",
        "- To ensure the reporducibilitym you can set a seed using ```np.random. seed()```. It will generate the exact same random numbers for each executions.\n",
        "- If you remove or change the seed values , the sequence fo random numbers will be changed."
      ],
      "metadata": {
        "id": "rudXd2ToFxzf"
      }
    },
    {
      "cell_type": "code",
      "source": [
        "np.random.rand(5)"
      ],
      "metadata": {
        "colab": {
          "base_uri": "https://localhost:8080/"
        },
        "id": "VTuXdNSHF1dM",
        "outputId": "496dc953-8891-419e-9b13-d42fd8882684"
      },
      "execution_count": null,
      "outputs": [
        {
          "output_type": "execute_result",
          "data": {
            "text/plain": [
              "array([0.12463601, 0.02045555, 0.9980053 , 0.38353717, 0.68473271])"
            ]
          },
          "metadata": {},
          "execution_count": 14
        }
      ]
    },
    {
      "cell_type": "code",
      "source": [
        "np.random.seed(80)\n",
        "np.random.rand(5)\n",
        "#randomly numbers generated always comes between 0 and 1"
      ],
      "metadata": {
        "colab": {
          "base_uri": "https://localhost:8080/"
        },
        "id": "g4qvWgE6GDlr",
        "outputId": "5a04672a-3b3a-49e5-d6a6-8a3468734854"
      },
      "execution_count": null,
      "outputs": [
        {
          "output_type": "execute_result",
          "data": {
            "text/plain": [
              "array([0.52191572, 0.69940637, 0.26986897, 0.67448187, 0.90807208])"
            ]
          },
          "metadata": {},
          "execution_count": 15
        }
      ]
    },
    {
      "cell_type": "code",
      "source": [
        "np.random.randn(5, 2)"
      ],
      "metadata": {
        "colab": {
          "base_uri": "https://localhost:8080/"
        },
        "id": "ERwAea8RGFoV",
        "outputId": "d2cc706b-9652-48d2-d063-d8d4668ef8d0"
      },
      "execution_count": null,
      "outputs": [
        {
          "output_type": "execute_result",
          "data": {
            "text/plain": [
              "array([[-1.03446493,  0.66424004],\n",
              "       [-1.13937438, -0.89472205],\n",
              "       [-0.2207972 , -0.43007258],\n",
              "       [ 1.19972246,  0.1222967 ],\n",
              "       [ 0.54794733, -0.52658091]])"
            ]
          },
          "metadata": {},
          "execution_count": 16
        }
      ]
    },
    {
      "cell_type": "code",
      "source": [
        "np.random.randint(low=0, high=100,size=(5,2))"
      ],
      "metadata": {
        "colab": {
          "base_uri": "https://localhost:8080/"
        },
        "id": "EzjI6kWeGJRE",
        "outputId": "5662e371-cf30-473c-c0ba-411a3407c16c"
      },
      "execution_count": null,
      "outputs": [
        {
          "output_type": "execute_result",
          "data": {
            "text/plain": [
              "array([[ 7, 69],\n",
              "       [96, 56],\n",
              "       [15,  3],\n",
              "       [94, 39],\n",
              "       [51, 94]])"
            ]
          },
          "metadata": {},
          "execution_count": 17
        }
      ]
    },
    {
      "cell_type": "code",
      "source": [],
      "metadata": {
        "id": "g-1gkn1vGbCt"
      },
      "execution_count": null,
      "outputs": []
    },
    {
      "cell_type": "markdown",
      "source": [
        "# Element wise oepration on entire arrays element by element"
      ],
      "metadata": {
        "id": "vtf9fFmgGscY"
      }
    },
    {
      "cell_type": "code",
      "source": [
        "import numpy as np\n",
        "a=np.arange(5)\n",
        "a"
      ],
      "metadata": {
        "id": "xLWw3KqoGxDu",
        "outputId": "c8ada345-1ecc-4635-b3fe-50394aa9335a",
        "colab": {
          "base_uri": "https://localhost:8080/"
        }
      },
      "execution_count": 3,
      "outputs": [
        {
          "output_type": "execute_result",
          "data": {
            "text/plain": [
              "array([0, 1, 2, 3, 4])"
            ]
          },
          "metadata": {},
          "execution_count": 3
        }
      ]
    },
    {
      "cell_type": "code",
      "source": [
        "b=(10+(a*2))\n",
        "b"
      ],
      "metadata": {
        "id": "khI0uHUUHNtY",
        "outputId": "f094d4c4-a21c-4d39-fda4-6710d48670ef",
        "colab": {
          "base_uri": "https://localhost:8080/"
        }
      },
      "execution_count": 4,
      "outputs": [
        {
          "output_type": "execute_result",
          "data": {
            "text/plain": [
              "array([10, 12, 14, 16, 18])"
            ]
          },
          "metadata": {},
          "execution_count": 4
        }
      ]
    },
    {
      "cell_type": "code",
      "source": [
        "#comparison operations\n",
        "a"
      ],
      "metadata": {
        "id": "ZPr6-3izHpxJ",
        "outputId": "f9eaf198-d908-4a7b-c947-744cb6f427bc",
        "colab": {
          "base_uri": "https://localhost:8080/"
        }
      },
      "execution_count": 5,
      "outputs": [
        {
          "output_type": "execute_result",
          "data": {
            "text/plain": [
              "array([0, 1, 2, 3, 4])"
            ]
          },
          "metadata": {},
          "execution_count": 5
        }
      ]
    },
    {
      "cell_type": "code",
      "source": [
        "a<=3"
      ],
      "metadata": {
        "id": "091pHYC3H5KA",
        "outputId": "132c813b-0e1f-4f7a-ac39-1edb772c3e09",
        "colab": {
          "base_uri": "https://localhost:8080/"
        }
      },
      "execution_count": 6,
      "outputs": [
        {
          "output_type": "execute_result",
          "data": {
            "text/plain": [
              "array([ True,  True,  True,  True, False])"
            ]
          },
          "metadata": {},
          "execution_count": 6
        }
      ]
    },
    {
      "cell_type": "code",
      "source": [
        "a>b"
      ],
      "metadata": {
        "id": "jbEEIAbeIGFu",
        "outputId": "a1b009ac-5fc0-489b-fa23-f1946afeb4ee",
        "colab": {
          "base_uri": "https://localhost:8080/"
        }
      },
      "execution_count": 7,
      "outputs": [
        {
          "output_type": "execute_result",
          "data": {
            "text/plain": [
              "array([False, False, False, False, False])"
            ]
          },
          "metadata": {},
          "execution_count": 7
        }
      ]
    },
    {
      "cell_type": "code",
      "source": [
        "#summarizing of the data\n",
        "#numpy provides functions for summarizing array data\n",
        "a\n",
        "\n"
      ],
      "metadata": {
        "id": "3u8eX6iZIOJF",
        "outputId": "1d9a5728-a6fe-40e7-8a8b-eada57f70e75",
        "colab": {
          "base_uri": "https://localhost:8080/"
        }
      },
      "execution_count": 8,
      "outputs": [
        {
          "output_type": "execute_result",
          "data": {
            "text/plain": [
              "array([0, 1, 2, 3, 4])"
            ]
          },
          "metadata": {},
          "execution_count": 8
        }
      ]
    },
    {
      "cell_type": "code",
      "source": [
        "a.std()"
      ],
      "metadata": {
        "id": "aa7WMP03IiL3",
        "outputId": "5a6874f8-5ccc-491d-c459-6ecf3d3b8272",
        "colab": {
          "base_uri": "https://localhost:8080/"
        }
      },
      "execution_count": 9,
      "outputs": [
        {
          "output_type": "execute_result",
          "data": {
            "text/plain": [
              "1.4142135623730951"
            ]
          },
          "metadata": {},
          "execution_count": 9
        }
      ]
    },
    {
      "cell_type": "code",
      "source": [
        "a.max()"
      ],
      "metadata": {
        "id": "FW4IecsGJMXH",
        "outputId": "f4f4ab2a-cdf7-43c2-d571-73c05434c02b",
        "colab": {
          "base_uri": "https://localhost:8080/"
        }
      },
      "execution_count": 10,
      "outputs": [
        {
          "output_type": "execute_result",
          "data": {
            "text/plain": [
              "4"
            ]
          },
          "metadata": {},
          "execution_count": 10
        }
      ]
    },
    {
      "cell_type": "code",
      "source": [
        "a.min()"
      ],
      "metadata": {
        "id": "o9z5EiC7JOjD",
        "outputId": "18f77141-54f0-483a-a46f-b20124294cb8",
        "colab": {
          "base_uri": "https://localhost:8080/"
        }
      },
      "execution_count": 12,
      "outputs": [
        {
          "output_type": "execute_result",
          "data": {
            "text/plain": [
              "0"
            ]
          },
          "metadata": {},
          "execution_count": 12
        }
      ]
    },
    {
      "cell_type": "code",
      "source": [
        "a.sum()"
      ],
      "metadata": {
        "id": "MqU2VY_RJVfp",
        "outputId": "f4402fc0-0581-4c42-dc86-eba9c9076fad",
        "colab": {
          "base_uri": "https://localhost:8080/"
        }
      },
      "execution_count": 13,
      "outputs": [
        {
          "output_type": "execute_result",
          "data": {
            "text/plain": [
              "10"
            ]
          },
          "metadata": {},
          "execution_count": 13
        }
      ]
    },
    {
      "cell_type": "code",
      "source": [],
      "metadata": {
        "id": "Gda3W63eJVcR"
      },
      "execution_count": null,
      "outputs": []
    }
  ]
}