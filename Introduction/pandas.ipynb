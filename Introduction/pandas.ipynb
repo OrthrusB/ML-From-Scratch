{
  "nbformat": 4,
  "nbformat_minor": 0,
  "metadata": {
    "colab": {
      "provenance": [],
      "authorship_tag": "ABX9TyO2TGrZ0A8vrUsd9E9maOrf",
      "include_colab_link": true
    },
    "kernelspec": {
      "name": "python3",
      "display_name": "Python 3"
    },
    "language_info": {
      "name": "python"
    }
  },
  "cells": [
    {
      "cell_type": "markdown",
      "metadata": {
        "id": "view-in-github",
        "colab_type": "text"
      },
      "source": [
        "<a href=\"https://colab.research.google.com/github/OrthrusB/ML-From-Scratch/blob/main/Introduction/pandas.ipynb\" target=\"_parent\"><img src=\"https://colab.research.google.com/assets/colab-badge.svg\" alt=\"Open In Colab\"/></a>"
      ]
    },
    {
      "cell_type": "code",
      "execution_count": null,
      "metadata": {
        "id": "YhnSTuIGKZSc"
      },
      "outputs": [],
      "source": []
    },
    {
      "cell_type": "markdown",
      "source": [
        "# Pandas\n",
        "Data preprocessing in Maching Learning using Pandas\n",
        "\n",
        "Data preproessing is required tasks for cleaning the data and making it sutiable for a machine learning model which also increses the accuracy and efficinecy of a machine learning model .\n",
        "\n"
      ],
      "metadata": {
        "id": "k97rMwW6KeeZ"
      }
    }
  ]
}