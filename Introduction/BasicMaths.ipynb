{
  "nbformat": 4,
  "nbformat_minor": 0,
  "metadata": {
    "colab": {
      "provenance": [],
      "toc_visible": true,
      "authorship_tag": "ABX9TyOhgoS1AhvqlYvdesCXBorV",
      "include_colab_link": true
    },
    "kernelspec": {
      "name": "python3",
      "display_name": "Python 3"
    },
    "language_info": {
      "name": "python"
    }
  },
  "cells": [
    {
      "cell_type": "markdown",
      "metadata": {
        "id": "view-in-github",
        "colab_type": "text"
      },
      "source": [
        "<a href=\"https://colab.research.google.com/github/OrthrusB/ML-From-Scratch/blob/main/Introduction/BasicMaths.ipynb\" target=\"_parent\"><img src=\"https://colab.research.google.com/assets/colab-badge.svg\" alt=\"Open In Colab\"/></a>"
      ]
    },
    {
      "cell_type": "markdown",
      "source": [],
      "metadata": {
        "id": "AIIrmXDUk4vZ"
      }
    },
    {
      "cell_type": "markdown",
      "source": [
        "# Basic Maths\n",
        "-  matrix\n",
        "- vector"
      ],
      "metadata": {
        "id": "eYp7mB_Yk6Uu"
      }
    },
    {
      "cell_type": "markdown",
      "source": [
        "#vector\n",
        "\n"
      ],
      "metadata": {
        "id": "omVrfV7llDag"
      }
    },
    {
      "cell_type": "markdown",
      "source": [
        "euclidean distance"
      ],
      "metadata": {
        "id": "G4J1SuGklUO7"
      }
    },
    {
      "cell_type": "code",
      "source": [
        "# calculate the eculidian distance between two list\n",
        "list1 = [1,2,3]\n",
        "list2 = [4,5,6]\n",
        "\n",
        "x = sum((b-a)**2 for a,b in zip(list1,list2))**0.5\n",
        "print(\"euclidian distance between two list is: \",x)"
      ],
      "metadata": {
        "id": "9w0avORslgGp",
        "outputId": "b05f185b-0b2b-49a1-b3b4-24610d870b6d",
        "colab": {
          "base_uri": "https://localhost:8080/"
        }
      },
      "execution_count": 1,
      "outputs": [
        {
          "output_type": "stream",
          "name": "stdout",
          "text": [
            "euclidian distance between two list is:  5.196152422706632\n"
          ]
        }
      ]
    },
    {
      "cell_type": "code",
      "source": [
        "import numpy as np"
      ],
      "metadata": {
        "id": "_p9UbHycllUa"
      },
      "execution_count": 2,
      "outputs": []
    },
    {
      "cell_type": "code",
      "source": [
        "#calculate the euclidina distane between vector using the numpy array\n",
        "p1 = np.array([1,2,3])\n",
        "p2 = np.array([4,5,6])\n",
        "\n",
        "\n",
        "x = np.linalg.norm(p2-p1)\n",
        "print(\"euclidian distance between two list is: \",x)"
      ],
      "metadata": {
        "id": "3_Wh56yNln8B",
        "outputId": "da2feed3-360b-4401-b309-bcdd1c04b94a",
        "colab": {
          "base_uri": "https://localhost:8080/"
        }
      },
      "execution_count": 3,
      "outputs": [
        {
          "output_type": "stream",
          "name": "stdout",
          "text": [
            "euclidian distance between two list is:  5.196152422706632\n"
          ]
        }
      ]
    },
    {
      "cell_type": "code",
      "source": [
        "# calculate the euclidina distance between vector with out linalg\n",
        "import numpy as np\n",
        "a = np.array((1, 2, 3))\n",
        "b = np.array((4, 5, 6))\n",
        "dist = np.sqrt((b[0] - a[0])**2 + (b[1] - a[1])**2 + (b[2] - a[2])**2)\n",
        "print(dist)\n",
        "#dist = np.sqrt(np.sum((b - a) ** 2))"
      ],
      "metadata": {
        "id": "qkFe_TPWlpyM",
        "outputId": "51c0e61d-5c8f-4b77-99a3-d65775dc51ec",
        "colab": {
          "base_uri": "https://localhost:8080/"
        }
      },
      "execution_count": 4,
      "outputs": [
        {
          "output_type": "stream",
          "name": "stdout",
          "text": [
            "5.196152422706632\n"
          ]
        }
      ]
    },
    {
      "cell_type": "markdown",
      "source": [
        "Manhattan Distance"
      ],
      "metadata": {
        "id": "TgrBRVZVluKO"
      }
    },
    {
      "cell_type": "code",
      "source": [
        "#calculate the manhattan distane between vector using the numpy array\n",
        "p1 = np.array([1,2,3])\n",
        "p2 = np.array([4,5,6])\n",
        "\n",
        "\n",
        "x = np.linalg.norm(p2-p1,ord=1)\n",
        "print(\"manhattan distance between two list is: \",x)"
      ],
      "metadata": {
        "id": "yZu3XLQGlwWm",
        "outputId": "7fa8ac69-dc1f-45cf-d1bb-71cd5e09aade",
        "colab": {
          "base_uri": "https://localhost:8080/"
        }
      },
      "execution_count": 5,
      "outputs": [
        {
          "output_type": "stream",
          "name": "stdout",
          "text": [
            "manhattan distance between two list is:  9.0\n"
          ]
        }
      ]
    },
    {
      "cell_type": "code",
      "source": [
        "#calculate the manhattan distane between vector using the numpy array\n",
        "p1 = np.array([1,2,3])\n",
        "p2 = np.array([4,5,6])\n",
        "\n",
        "\n",
        "x = np.sum(abs(p2-p1))\n",
        "print(\"manhattan distance between two list is: \",x)\n"
      ],
      "metadata": {
        "id": "E5ScSu-jlylY",
        "outputId": "45f31d0e-a8c3-4323-b85e-0bcfd5ba4e9b",
        "colab": {
          "base_uri": "https://localhost:8080/"
        }
      },
      "execution_count": 6,
      "outputs": [
        {
          "output_type": "stream",
          "name": "stdout",
          "text": [
            "manhattan distance between two list is:  9\n"
          ]
        }
      ]
    },
    {
      "cell_type": "code",
      "source": [
        "#lenght or magnitude\n",
        "#formula is sqrt xa**2 + x2**2\n",
        "\n",
        "p1 = np.array([1,2,3,4])\n",
        "\n",
        "#calcualte the magnitude of p1 |p1|\n",
        "x = np.linalg.norm(p1)\n",
        "print(x)"
      ],
      "metadata": {
        "id": "nYBkpSLVl0LU",
        "outputId": "24f2f71b-3989-4647-a297-250ffa0bd45f",
        "colab": {
          "base_uri": "https://localhost:8080/"
        }
      },
      "execution_count": 7,
      "outputs": [
        {
          "output_type": "stream",
          "name": "stdout",
          "text": [
            "5.477225575051661\n"
          ]
        }
      ]
    },
    {
      "cell_type": "code",
      "source": [
        "#lenght or magnitude\n",
        "#formula is sqrt xa**2 + x2**2\n",
        "\n",
        "p1 = np.array([1,2,3,4])\n",
        "\n",
        "#calcualte the magnitude of p1 |p1|\n",
        "x = np.sqrt(np.sum(p1**2))\n",
        "print(x)"
      ],
      "metadata": {
        "id": "tPnz2pKpl180",
        "outputId": "2cb6d861-15cb-4e12-a547-a0868239087f",
        "colab": {
          "base_uri": "https://localhost:8080/"
        }
      },
      "execution_count": 8,
      "outputs": [
        {
          "output_type": "stream",
          "name": "stdout",
          "text": [
            "5.477225575051661\n"
          ]
        }
      ]
    },
    {
      "cell_type": "code",
      "source": [
        "#dot product\n",
        "p1 = np.array([1,2,3])\n",
        "p2 = np.array([4,5,6])\n",
        "\n",
        "x = np.dot(p1,p2)\n",
        "print(x)"
      ],
      "metadata": {
        "id": "VfLmHtbbl3ps"
      },
      "execution_count": null,
      "outputs": []
    },
    {
      "cell_type": "markdown",
      "source": [
        "# Matrix"
      ],
      "metadata": {
        "id": "awHSJj4Hl7mF"
      }
    },
    {
      "cell_type": "code",
      "source": [
        "#addition and subtraction of matrix\n",
        "p1 = np.array([(1,2,3),(6,7,8)])\n",
        "p2 = np.array([(4,5,6),(2,3,4)])\n",
        "\n",
        "#add\n",
        "sum = p1 + p2\n",
        "print(sum)\n",
        "\n",
        "#sub\n",
        "sub = p1 - p2\n",
        "print(sub)"
      ],
      "metadata": {
        "id": "L3lXWyp-l_6X",
        "outputId": "de6fac4e-7f47-4dc4-ccfc-644bf3596f58",
        "colab": {
          "base_uri": "https://localhost:8080/"
        }
      },
      "execution_count": 9,
      "outputs": [
        {
          "output_type": "stream",
          "name": "stdout",
          "text": [
            "[[ 5  7  9]\n",
            " [ 8 10 12]]\n",
            "[[-3 -3 -3]\n",
            " [ 4  4  4]]\n"
          ]
        }
      ]
    },
    {
      "cell_type": "code",
      "source": [
        "#dot product , second matrix should have the same no of rows as the same no of columns first matrix\n",
        "p1 = np.array([(1,2,3),(6,7,8)])\n",
        "p2 = np.array([(4,5,6),(2,3,4),(4,8,1)])\n",
        "\n",
        "dot_p = np.dot(p1,p2)\n",
        "print(dot_p)"
      ],
      "metadata": {
        "id": "1C1Q-IL8mAu0",
        "outputId": "1551b436-52ff-48b7-892f-5d5eb1928937",
        "colab": {
          "base_uri": "https://localhost:8080/"
        }
      },
      "execution_count": 10,
      "outputs": [
        {
          "output_type": "stream",
          "name": "stdout",
          "text": [
            "[[ 20  35  17]\n",
            " [ 70 115  72]]\n"
          ]
        }
      ]
    },
    {
      "cell_type": "code",
      "source": [
        "# determinant of matrix\n",
        "p1 = np.array([(3,2),(6,7)])\n",
        "\n",
        "det = np.linalg.det(p1)\n",
        "print(det)\n"
      ],
      "metadata": {
        "id": "KhSPpxQbmCGn",
        "outputId": "f5de26a9-c0db-47ee-f0d8-bc6b8c957aa3",
        "colab": {
          "base_uri": "https://localhost:8080/"
        }
      },
      "execution_count": 11,
      "outputs": [
        {
          "output_type": "stream",
          "name": "stdout",
          "text": [
            "8.999999999999998\n"
          ]
        }
      ]
    },
    {
      "cell_type": "code",
      "source": [
        "# inverse of the matrix\n",
        "inv = np.linalg.inv(p1)\n",
        "print(inv)"
      ],
      "metadata": {
        "id": "KJcbCmEUmDfH",
        "outputId": "089b1f52-e0e2-4b09-ad91-c9900e685789",
        "colab": {
          "base_uri": "https://localhost:8080/"
        }
      },
      "execution_count": 12,
      "outputs": [
        {
          "output_type": "stream",
          "name": "stdout",
          "text": [
            "[[ 0.77777778 -0.22222222]\n",
            " [-0.66666667  0.33333333]]\n"
          ]
        }
      ]
    },
    {
      "cell_type": "code",
      "source": [
        "#transpose of matrix\n",
        "tran = p1.T\n",
        "print(tran)"
      ],
      "metadata": {
        "id": "ziOBmwgFmE1a",
        "outputId": "dec4817f-04af-4a99-d476-90d1de5f2225",
        "colab": {
          "base_uri": "https://localhost:8080/"
        }
      },
      "execution_count": 13,
      "outputs": [
        {
          "output_type": "stream",
          "name": "stdout",
          "text": [
            "[[3 6]\n",
            " [2 7]]\n"
          ]
        }
      ]
    },
    {
      "cell_type": "code",
      "source": [
        "#input the matrix col and their values and do some operation\n",
        "matrixA = []\n",
        "matrixB = []\n",
        "rows1 = int(input(\"Enter the no of rows of matrix A: \"))\n",
        "cols1 = int(input(\"Enter the no of cols of matrix A: \"))\n",
        "\n",
        "#get input for matrix 1\n",
        "for i in range(rows1):\n",
        "  r=[]\n",
        "  for j in range(cols1):\n",
        "    v = int(input(f\"Enter the values for matrix A: \"))\n",
        "    r.append(v)\n",
        "  matrixA.append(r)\n",
        "\n",
        "\n",
        "rows2 = int(input(\"\\nEnter the no of rows of matrix B: \"))\n",
        "cols2 = int(input(\"Enter the no of cols of matrix B: \"))\n",
        "\n",
        "#get input fro matrix 2\n",
        "for i in range(rows2):\n",
        "  r=[]\n",
        "  for j in range(cols2):\n",
        "    v = int(input(f\"Enter the values for matrix B: \"))\n",
        "    r.append(v)\n",
        "\n",
        "  matrixB.append(r)\n",
        "\n",
        "matrixA = np.asarray(matrixA)\n",
        "matrixB = np.asarray(matrixB)\n",
        "\n",
        "print(\"\\nmatrix A:\\n\",matrixA)\n",
        "print(\"\\nmatrix B:\\n\",matrixB,\"\\n\")\n",
        "\n",
        "\n",
        "#function to perform addition\n",
        "def sum():\n",
        "  print(\"\\nThe addition of two matrix is:\\n\",matrixA + matrixB,\"\\n\")\n",
        "\n",
        "#function to perform subtraction\n",
        "def sub():\n",
        "  print(\"\\nThe subtraction of two matrix is:\\n\",matrixA - matrixB,\"\\n\")\n",
        "\n",
        "#function to perform multiplication\n",
        "def mul():\n",
        "  print(\"\\nThe multiplication of two matrix is:\\n\",np.multiply(matrixA,matrixB),\"\\n\")\n",
        "\n",
        "#function to perform dotproduct\n",
        "def dot():\n",
        "  print(\"\\nThe dot product of two matrix is:\\n\",np.dot(matrixA,matrixB),\"\\n\")\n",
        "\n",
        "\n",
        "\n",
        "\n",
        "while True:\n",
        "  print(\"\\n-----Select the operation to perform-----\\n\")\n",
        "  print(\"1.Addition\")\n",
        "  print(\"2.Subtraction\")\n",
        "  print(\"3.Multiplication\")\n",
        "  print(\"4.Dot product\")\n",
        "  print(\"5.Exit\\n\")\n",
        "\n",
        "  num = int(input((\"Enter the your choice:\")))\n",
        "\n",
        "  if num == 1:\n",
        "    if(rows1 != rows2 or cols1 != cols2):\n",
        "      print(\"\\nCannot perform addition as it has different dimensions\")\n",
        "      continue\n",
        "    else:\n",
        "      sum()\n",
        "  elif num == 2:\n",
        "    if(rows1 != rows2 or cols1 != cols2):\n",
        "      print(\"\\nCannot perform subtraction as it has different dimensions\")\n",
        "      continue\n",
        "    else:\n",
        "      sub()\n",
        "  elif num == 3:\n",
        "    if(cols1 != rows2 or cols1 != cols2):\n",
        "      print(\"\\nCannot perform mulitplication Columns of A must be equal to rows of B.\")\n",
        "      continue\n",
        "    else:\n",
        "      mul()\n",
        "  elif num == 4:\n",
        "    if(cols1 != rows2):\n",
        "      print(\"\\nCannot perform mulitplication Columns of A must be equal to rows of B.\")\n",
        "      continue\n",
        "    else:\n",
        "      dot()\n",
        "  elif num == 5:\n",
        "    print(\"\\n----Terminated----\\n\")\n",
        "    break\n",
        "  else:\n",
        "    print(\"valid number\")\n",
        "    continue\n",
        "\n",
        "\n",
        "\n",
        "\n"
      ],
      "metadata": {
        "id": "fZapBEp8mGLa",
        "outputId": "eddfcf6c-0a3d-4559-fc55-76dd36db9fc4",
        "colab": {
          "base_uri": "https://localhost:8080/"
        }
      },
      "execution_count": null,
      "outputs": [
        {
          "output_type": "stream",
          "name": "stdout",
          "text": [
            "Enter the no of rows of matrix A: 2\n",
            "Enter the no of cols of matrix A: 3\n",
            "Enter the values for matrix A: 5\n",
            "Enter the values for matrix A: 6\n",
            "Enter the values for matrix A: 8\n",
            "Enter the values for matrix A: 3\n",
            "Enter the values for matrix A: 1\n",
            "Enter the values for matrix A: 3\n",
            "\n",
            "Enter the no of rows of matrix B: 2\n",
            "Enter the no of cols of matrix B: 3\n",
            "Enter the values for matrix B: 7\n",
            "Enter the values for matrix B: 5\n",
            "Enter the values for matrix B: 9\n",
            "Enter the values for matrix B: 5\n",
            "Enter the values for matrix B: 3\n",
            "Enter the values for matrix B: 2\n",
            "\n",
            "matrix A:\n",
            " [[5 6 8]\n",
            " [3 1 3]]\n",
            "\n",
            "matrix B:\n",
            " [[7 5 9]\n",
            " [5 3 2]] \n",
            "\n",
            "\n",
            "-----Select the operation to perform-----\n",
            "\n",
            "1.Addition\n",
            "2.Subtraction\n",
            "3.Multiplication\n",
            "4.Dot product\n",
            "5.Exit\n",
            "\n",
            "Enter the your choice:1\n",
            "\n",
            "The addition of two matrix is:\n",
            " [[12 11 17]\n",
            " [ 8  4  5]] \n",
            "\n",
            "\n",
            "-----Select the operation to perform-----\n",
            "\n",
            "1.Addition\n",
            "2.Subtraction\n",
            "3.Multiplication\n",
            "4.Dot product\n",
            "5.Exit\n",
            "\n",
            "Enter the your choice:2\n",
            "\n",
            "The subtraction of two matrix is:\n",
            " [[-2  1 -1]\n",
            " [-2 -2  1]] \n",
            "\n",
            "\n",
            "-----Select the operation to perform-----\n",
            "\n",
            "1.Addition\n",
            "2.Subtraction\n",
            "3.Multiplication\n",
            "4.Dot product\n",
            "5.Exit\n",
            "\n",
            "Enter the your choice:3\n",
            "\n",
            "Cannot perform mulitplication Columns of A must be equal to rows of B.\n",
            "\n",
            "-----Select the operation to perform-----\n",
            "\n",
            "1.Addition\n",
            "2.Subtraction\n",
            "3.Multiplication\n",
            "4.Dot product\n",
            "5.Exit\n",
            "\n",
            "Enter the your choice:4\n",
            "\n",
            "Cannot perform mulitplication Columns of A must be equal to rows of B.\n",
            "\n",
            "-----Select the operation to perform-----\n",
            "\n",
            "1.Addition\n",
            "2.Subtraction\n",
            "3.Multiplication\n",
            "4.Dot product\n",
            "5.Exit\n",
            "\n"
          ]
        }
      ]
    },
    {
      "cell_type": "code",
      "source": [],
      "metadata": {
        "id": "XRhB7ZprmIT6"
      },
      "execution_count": null,
      "outputs": []
    }
  ]
}