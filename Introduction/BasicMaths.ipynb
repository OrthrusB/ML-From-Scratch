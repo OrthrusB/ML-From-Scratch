{
  "nbformat": 4,
  "nbformat_minor": 0,
  "metadata": {
    "colab": {
      "provenance": [],
      "authorship_tag": "ABX9TyNs3trFuLpZm9ElUMy5VkEE",
      "include_colab_link": true
    },
    "kernelspec": {
      "name": "python3",
      "display_name": "Python 3"
    },
    "language_info": {
      "name": "python"
    }
  },
  "cells": [
    {
      "cell_type": "markdown",
      "metadata": {
        "id": "view-in-github",
        "colab_type": "text"
      },
      "source": [
        "<a href=\"https://colab.research.google.com/github/OrthrusB/ML-From-Scratch/blob/main/Introduction/BasicMaths.ipynb\" target=\"_parent\"><img src=\"https://colab.research.google.com/assets/colab-badge.svg\" alt=\"Open In Colab\"/></a>"
      ]
    },
    {
      "cell_type": "code",
      "execution_count": 1,
      "metadata": {
        "colab": {
          "base_uri": "https://localhost:8080/"
        },
        "id": "tB25qBaSWaC1",
        "outputId": "655740bf-7ceb-4a72-a87f-5157706e4fa0"
      },
      "outputs": [
        {
          "output_type": "stream",
          "name": "stdout",
          "text": [
            "5.196152422706632\n"
          ]
        }
      ],
      "source": [
        "list1=[1, 2, 3]\n",
        "list2=[4, 5, 6]\n",
        "\n",
        "distance = sum((b - a) ** 2 for a, b in zip(list1, list2)) ** 0.5\n",
        "\n",
        "print(distance)\n",
        "\n",
        "\n",
        "\n"
      ]
    },
    {
      "cell_type": "code",
      "source": [
        "import numpy as np\n",
        "a = np.array((1, 2, 3))\n",
        "b = np.array((4, 5, 6))\n",
        "dist = np.sqrt((b[0] - a[0])**2 + (b[1] - a[1])**2 + (b[2] - a[2])**2)\n",
        "print(dist)\n",
        "#dist = np.sqrt(np.sum((b - a) ** 2))"
      ],
      "metadata": {
        "colab": {
          "base_uri": "https://localhost:8080/"
        },
        "id": "j74miQ8eXfbs",
        "outputId": "875510b1-bfab-4a2a-bc05-889d5ea739c1"
      },
      "execution_count": 10,
      "outputs": [
        {
          "output_type": "stream",
          "name": "stdout",
          "text": [
            "5.196152422706632\n"
          ]
        }
      ]
    },
    {
      "cell_type": "code",
      "source": [
        "import numpy as np\n",
        "\n",
        "\n",
        "A = np.array([[1, 2, 3], [4, 5, 6]])\n",
        "B = np.array([[7, 8], [9, 10], [11, 12]])\n",
        "\n",
        "\n",
        "C = np.dot(A,B)\n",
        "\n",
        "\n",
        "print(C)"
      ],
      "metadata": {
        "colab": {
          "base_uri": "https://localhost:8080/"
        },
        "id": "iRgI36S0ZfMD",
        "outputId": "e8ece5dc-0ce5-4e52-81c8-e115e4c782a7"
      },
      "execution_count": 11,
      "outputs": [
        {
          "output_type": "stream",
          "name": "stdout",
          "text": [
            "[[ 58  64]\n",
            " [139 154]]\n"
          ]
        }
      ]
    },
    {
      "cell_type": "code",
      "source": [
        "def main():\n",
        "    # dimensions for matrix A\n",
        "    rows_A = int(input(\"Enter number of rows for matrix A: \"))\n",
        "    cols_A = int(input(\"Enter number of columns for matrix A: \"))\n",
        "\n",
        "    #  dimensions for matrix B\n",
        "    rows_B = int(input(\"Enter number of rows for matrix B: \"))\n",
        "    cols_B = int(input(\"Enter number of columns for matrix B: \"))\n",
        "\n",
        "    # check if the matrix if possible to compute or not\n",
        "    if cols_A != rows_B:\n",
        "        print(\"Not possible . Columns of A must be equal to rows of B.\")\n",
        "        return\n",
        "\n",
        "    #calculate\n",
        "\n"
      ],
      "metadata": {
        "id": "mjkxrq4WaU-D"
      },
      "execution_count": null,
      "outputs": []
    },
    {
      "cell_type": "code",
      "source": [
        "import numpy as np\n",
        "\n",
        "R = int(input(\"Enter the number of rows:\"))\n",
        "C = int(input(\"Enter the number of columns:\"))\n",
        "\n",
        "\n",
        "print(\"Enter the entries : \")\n",
        "\n",
        "\n",
        "entries = list(map(int, input().split()))\n",
        "\n",
        "\n",
        "matrix = np.array(entries).reshape(R, C)\n",
        "print(matrix)"
      ],
      "metadata": {
        "colab": {
          "base_uri": "https://localhost:8080/"
        },
        "id": "9WYIOWsVdaTC",
        "outputId": "7c3cb68d-0c41-459a-aace-6f859b3706fb"
      },
      "execution_count": 15,
      "outputs": [
        {
          "output_type": "stream",
          "name": "stdout",
          "text": [
            "Enter the number of rows:2\n",
            "Enter the number of columns:2\n",
            "Enter the entries : \n",
            "1 2 3 4\n",
            "[[1 2]\n",
            " [3 4]]\n"
          ]
        }
      ]
    },
    {
      "cell_type": "code",
      "source": [
        "#find the centroid (1, 2), (3, 4), (5, 6)\n",
        "\n"
      ],
      "metadata": {
        "id": "MWzZUn3uda7Y"
      },
      "execution_count": 13,
      "outputs": []
    }
  ]
}